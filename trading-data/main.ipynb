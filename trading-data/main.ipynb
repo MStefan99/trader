{
 "cells": [
  {
   "cell_type": "code",
   "execution_count": 116,
   "metadata": {
    "collapsed": true,
    "pycharm": {
     "name": "#%%\n"
    }
   },
   "outputs": [],
   "source": [
    "import random\n",
    "\n",
    "numbers = [[random.uniform(-1, 1) for _ in range(0, 3)] for _ in range(0, 10000)]"
   ]
  },
  {
   "cell_type": "code",
   "execution_count": 117,
   "outputs": [],
   "source": [
    "a = random.uniform(-10, 10)\n",
    "b = random.uniform(-10, 10)\n",
    "c = random.uniform(-10, 10)\n",
    "d = random.uniform(-10, 10)\n",
    "\n",
    "\n",
    "def result(values):\n",
    "    return a * values[0] + b * values[1] + c * values[2] + d\n",
    "\n",
    "\n",
    "results = [result(numbers[i]) for i in range(0, len(numbers))]"
   ],
   "metadata": {
    "collapsed": false,
    "pycharm": {
     "name": "#%%\n"
    }
   }
  },
  {
   "cell_type": "code",
   "execution_count": 118,
   "outputs": [],
   "source": [
    "with open('./data/in.txt', 'w') as f:\n",
    "    f.write(f'{len(numbers[0])}:{len(numbers)}\\n')\n",
    "    for i in range(0, len(numbers)):\n",
    "        f.write(','.join(str(n) for n in numbers[i]) + '\\n')\n",
    "\n",
    "with open('./data/out.txt', 'w') as f:\n",
    "    f.write(f'1:{len(results)}\\n')\n",
    "    for i in range(0, len(results)):\n",
    "        f.write(f'{results[i]}\\n')\n",
    "\n",
    "with open('./data/sample.txt', 'w') as f:\n",
    "    f.write(f'1:{len(numbers[0])}\\n')\n",
    "    for i in range(0, len(numbers[0])):\n",
    "        f.write(f'{numbers[0][i]}\\n')\n"
   ],
   "metadata": {
    "collapsed": false,
    "pycharm": {
     "name": "#%%\n"
    }
   }
  }
 ],
 "metadata": {
  "kernelspec": {
   "display_name": "Python 3 (ipykernel)",
   "language": "python",
   "name": "python3"
  },
  "language_info": {
   "codemirror_mode": {
    "name": "ipython",
    "version": 3
   },
   "file_extension": ".py",
   "mimetype": "text/x-python",
   "name": "python",
   "nbconvert_exporter": "python",
   "pygments_lexer": "ipython3",
   "version": "3.9.5"
  }
 },
 "nbformat": 4,
 "nbformat_minor": 1
}